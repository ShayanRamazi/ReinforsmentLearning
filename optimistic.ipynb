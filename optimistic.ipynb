{
  "nbformat": 4,
  "nbformat_minor": 0,
  "metadata": {
    "kernelspec": {
      "display_name": "Python 3",
      "language": "python",
      "name": "python3"
    },
    "language_info": {
      "codemirror_mode": {
        "name": "ipython",
        "version": 3
      },
      "file_extension": ".py",
      "mimetype": "text/x-python",
      "name": "python",
      "nbconvert_exporter": "python",
      "pygments_lexer": "ipython3",
      "version": "3.8.3"
    },
    "colab": {
      "name": "optimistic.ipynb",
      "provenance": [],
      "include_colab_link": true
    }
  },
  "cells": [
    {
      "cell_type": "markdown",
      "metadata": {
        "id": "view-in-github",
        "colab_type": "text"
      },
      "source": [
        "<a href=\"https://colab.research.google.com/github/ShayanRamazi/ReinforsmentLearning/blob/main/optimistic.ipynb\" target=\"_parent\"><img src=\"https://colab.research.google.com/assets/colab-badge.svg\" alt=\"Open In Colab\"/></a>"
      ]
    },
    {
      "cell_type": "code",
      "metadata": {
        "id": "KfHhmJDnh2h4"
      },
      "source": [
        "import matplotlib.pyplot as plt\n",
        "import numpy as np"
      ],
      "execution_count": 1,
      "outputs": []
    },
    {
      "cell_type": "code",
      "metadata": {
        "id": "McekbZAah2h-"
      },
      "source": [
        "NUM_TRIALS = 2000\n",
        "EPS = 0.1\n",
        "BANDIT_PROBABILITIES = [0.2, 0.5, 0.75]"
      ],
      "execution_count": 2,
      "outputs": []
    },
    {
      "cell_type": "code",
      "metadata": {
        "id": "iyD1eqwKh2h_"
      },
      "source": [
        "class Bandit:\n",
        "    def __init__(self, p):\n",
        "        # p: the win rate\n",
        "        self.p = p\n",
        "        self.p_estimate = 3.\n",
        "        self.N = 1. # num samples collected so far\n",
        "\n",
        "    def pull(self):\n",
        "        # draw a 1 with probability p\n",
        "        return np.random.random() < self.p\n",
        "\n",
        "    def update(self, x):\n",
        "        self.N += 1.\n",
        "        self.p_estimate = ((self.N - 1)*self.p_estimate + x) / self.N"
      ],
      "execution_count": 3,
      "outputs": []
    },
    {
      "cell_type": "code",
      "metadata": {
        "id": "Q5nvQIPXh2h_"
      },
      "source": [
        "def experiment():\n",
        "    bandits = [Bandit(p) for p in BANDIT_PROBABILITIES]\n",
        "\n",
        "    rewards = np.zeros(NUM_TRIALS)\n",
        "    for i in range(NUM_TRIALS):\n",
        "        best_win = np.argmax([b.p_estimate for b in bandits])\n",
        "        x = bandits[best_win].pull()\n",
        "        rewards[i] = x\n",
        "        bandits[best_win].update(x)\n",
        "\n",
        "\n",
        "    # print mean estimates for each bandit\n",
        "    for b in bandits:\n",
        "        print(\"mean estimate:\", b.p_estimate)\n",
        "\n",
        "    # print total reward\n",
        "    print(\"total reward earned:\", rewards.sum())\n",
        "    print(\"overall win rate:\", rewards.sum() / NUM_TRIALS)\n",
        "    print(\"num times selected each bandit:\", [b.N for b in bandits])\n",
        "\n",
        "    # plot the results\n",
        "    cumulative_rewards = np.cumsum(rewards)\n",
        "    win_rates = cumulative_rewards / (np.arange(NUM_TRIALS) + 1)\n",
        "    plt.ylim([0, 1])\n",
        "    plt.plot(win_rates)\n",
        "    plt.plot(np.ones(NUM_TRIALS)*np.max(BANDIT_PROBABILITIES))\n",
        "    plt.show()"
      ],
      "execution_count": 4,
      "outputs": []
    },
    {
      "cell_type": "code",
      "metadata": {
        "id": "2pXfwzTkh2iA",
        "colab": {
          "base_uri": "https://localhost:8080/",
          "height": 373
        },
        "outputId": "2455b85a-15f6-4209-dc42-855934d69025"
      },
      "source": [
        "experiment()"
      ],
      "execution_count": 14,
      "outputs": [
        {
          "output_type": "stream",
          "name": "stdout",
          "text": [
            "mean estimate: 0.6\n",
            "mean estimate: 0.6666666666666666\n",
            "mean estimate: 0.7309236947791163\n",
            "total reward earned: 1454.0\n",
            "overall win rate: 0.727\n",
            "num times selected each bandit: [5.0, 6.0, 1992.0]\n"
          ]
        },
        {
          "output_type": "display_data",
          "data": {
            "image/png": "[encoded data removed]",
            "text/plain": [
              "<Figure size 432x288 with 1 Axes>"
            ]
          },
          "metadata": {
            "needs_background": "light"
          }
        }
      ]
    },
    {
      "cell_type": "code",
      "metadata": {
        "id": "5-JiZuOZh2iB"
      },
      "source": [
        ""
      ],
      "execution_count": null,
      "outputs": []
    },
    {
      "cell_type": "code",
      "metadata": {
        "id": "T7hplgVwh2iB"
      },
      "source": [
        ""
      ],
      "execution_count": null,
      "outputs": []
    }
  ]
}